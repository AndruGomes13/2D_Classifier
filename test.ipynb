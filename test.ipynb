{
 "cells": [
  {
   "cell_type": "code",
   "execution_count": null,
   "metadata": {},
   "outputs": [],
   "source": []
  },
  {
   "cell_type": "code",
   "execution_count": 1,
   "metadata": {},
   "outputs": [
    {
     "name": "stdout",
     "output_type": "stream",
     "text": [
      "pygame 2.1.2 (SDL 2.0.18, Python 3.9.13)\n",
      "Hello from the pygame community. https://www.pygame.org/contribute.html\n"
     ]
    }
   ],
   "source": [
    "import pygame\n",
    "import torch\n",
    "import random\n",
    "import numpy, time"
   ]
  },
  {
   "cell_type": "code",
   "execution_count": 6,
   "metadata": {},
   "outputs": [],
   "source": [
    "class Dot:\n",
    "    def __init__(self, x, y, color):\n",
    "        self.x = x\n",
    "        self.y = y\n",
    "        self.color = color\n",
    "\n",
    "color_list = [\"red\", \"blue\"]"
   ]
  },
  {
   "cell_type": "code",
   "execution_count": 8,
   "metadata": {},
   "outputs": [
    {
     "name": "stdout",
     "output_type": "stream",
     "text": [
      "['red']\n",
      "['red']\n",
      "['red']\n",
      "['blue']\n",
      "['red']\n",
      "['blue']\n",
      "['red']\n",
      "['blue']\n",
      "['blue']\n",
      "['blue']\n"
     ]
    }
   ],
   "source": [
    "dot_list = []\n",
    "\n",
    "#creating 10 dots\n",
    "for _ in range(10):\n",
    "    dot = Dot(random.random(), random.random(), random.sample(color_list, 1))\n",
    "    dot_list.append(dot)\n",
    "\n"
   ]
  },
  {
   "cell_type": "code",
   "execution_count": 19,
   "metadata": {},
   "outputs": [
    {
     "data": {
      "text/plain": [
       "True"
      ]
     },
     "execution_count": 19,
     "metadata": {},
     "output_type": "execute_result"
    }
   ],
   "source": [
    "\n",
    "limits= ((0, 300), (100, 200))\n",
    "mouse = (10, 130)\n",
    "def check_press(mouse_coord):\n",
    "    return (\n",
    "        mouse_coord[0] > limits[0][0] and \n",
    "        mouse_coord[0] < limits[0][1] and\n",
    "        mouse_coord[1] > limits[1][0] and\n",
    "        mouse_coord[1] < limits[1][1])\n",
    "\n",
    "check_press(mouse)"
   ]
  },
  {
   "cell_type": "code",
   "execution_count": 3,
   "metadata": {},
   "outputs": [],
   "source": [
    "import torch\n",
    "\n",
    "class KNN:\n",
    "    def __init__(self, n=1):\n",
    "        self.n = n\n",
    "\n",
    "    def classify_point(self, coord, dot_list, dot_class):\n",
    "        point = torch.tensor(coord).float()\n",
    "        dots = torch.tensor(dot_list).float()\n",
    "\n",
    "        c = ((point-dots)**2).sum(1)\n",
    "        d = torch.argsort(c)\n",
    "        indices = []\n",
    "        for i in range(self.n):\n",
    "            index = (d == i).nonzero(as_tuple=True)[0]\n",
    "            indices.append(index)\n",
    "        \n",
    "        count = {}\n",
    "        for ix in indices:\n",
    "            count[dot_class[ix]] = count.get(dot_class[ix], 0) + 1\n",
    "\n",
    "        return max(count, key=count.get), count\n",
    "\n",
    "    def classify_point_notensor(self, coord, dot_list, dot_class):    \n",
    "        dots = []\n",
    "        for dot in dot_list:\n",
    "            dots.append(self.dist_square(coord, dot))\n",
    "        indices = numpy.argsort(dots).tolist()\n",
    "        count = {}\n",
    "        for i in range(self.n):\n",
    "            ix = indices.index(i)\n",
    "            count[dot_class[ix]] = count.get(dot_class[ix], 0) + 1\n",
    "\n",
    "        return max(count, key=count.get), count\n",
    "        \n",
    "\n",
    "    def dist_square(self, coord1, coord2):\n",
    "        return (coord1[0] - coord2[0])**2 + (coord1[1] - coord2[1])**2 \n",
    "\n",
    "\n"
   ]
  },
  {
   "cell_type": "code",
   "execution_count": 4,
   "metadata": {},
   "outputs": [],
   "source": [
    "dot_list = []\n",
    "dot_class = []\n",
    "possible_types = [\"A\", \"B\", \"C\"]\n",
    "\n",
    "for i in range(1000):\n",
    "    dot_list.append([random.random(), random.random()])\n",
    "    dot_class.append(random.choice(possible_types))\n",
    "\n",
    "# print(dot_list)\n",
    "# print(dot_class)"
   ]
  },
  {
   "cell_type": "code",
   "execution_count": 5,
   "metadata": {},
   "outputs": [
    {
     "name": "stdout",
     "output_type": "stream",
     "text": [
      "0.6875\n",
      "0.515625\n"
     ]
    }
   ],
   "source": [
    "point = (0, 0)\n",
    "knn = KNN(50)\n",
    "t = time.process_time()\n",
    "for _ in range(1000):\n",
    "    knn.classify_point(point, dot_list, dot_class)\n",
    "print(time.process_time() - t)\n",
    "t = time.process_time()\n",
    "for _ in range(1000):\n",
    "    knn.classify_point_notensor(point, dot_list, dot_class)\n",
    "print(time.process_time() - t)"
   ]
  },
  {
   "cell_type": "code",
   "execution_count": 2,
   "metadata": {},
   "outputs": [
    {
     "data": {
      "text/plain": [
       "(5, 0)"
      ]
     },
     "execution_count": 2,
     "metadata": {},
     "output_type": "execute_result"
    }
   ],
   "source": [
    "pygame.init()"
   ]
  },
  {
   "cell_type": "code",
   "execution_count": 9,
   "metadata": {},
   "outputs": [
    {
     "data": {
      "text/plain": [
       "(0, 0, 255, 255)"
      ]
     },
     "execution_count": 9,
     "metadata": {},
     "output_type": "execute_result"
    }
   ],
   "source": [
    "pygame.Color(\"blue\")"
   ]
  }
 ],
 "metadata": {
  "kernelspec": {
   "display_name": "env_pygame_ml",
   "language": "python",
   "name": "python3"
  },
  "language_info": {
   "codemirror_mode": {
    "name": "ipython",
    "version": 3
   },
   "file_extension": ".py",
   "mimetype": "text/x-python",
   "name": "python",
   "nbconvert_exporter": "python",
   "pygments_lexer": "ipython3",
   "version": "3.9.13"
  },
  "orig_nbformat": 4,
  "vscode": {
   "interpreter": {
    "hash": "63ab5f8c11a7aa7ff207561ce57dab06d98dd520a75cd0c3f58541c26e3b65cc"
   }
  }
 },
 "nbformat": 4,
 "nbformat_minor": 2
}
