{
 "cells": [
  {
   "cell_type": "code",
   "execution_count": 3,
   "metadata": {},
   "outputs": [],
   "source": [
    "import pygame\n",
    "import random"
   ]
  },
  {
   "cell_type": "code",
   "execution_count": 5,
   "metadata": {},
   "outputs": [],
   "source": [
    "class Dot:\n",
    "    def __init__(self, x, y, color):\n",
    "        self.x = x\n",
    "        self.y = y\n",
    "        self.color = color\n",
    "\n",
    "color_list = [\"red\", \"blue\"]"
   ]
  },
  {
   "cell_type": "code",
   "execution_count": 8,
   "metadata": {},
   "outputs": [
    {
     "name": "stdout",
     "output_type": "stream",
     "text": [
      "['red']\n",
      "['red']\n",
      "['red']\n",
      "['blue']\n",
      "['red']\n",
      "['blue']\n",
      "['red']\n",
      "['blue']\n",
      "['blue']\n",
      "['blue']\n"
     ]
    }
   ],
   "source": [
    "dot_list = []\n",
    "\n",
    "#creating 10 dots\n",
    "for _ in range(10):\n",
    "    dot = Dot(random.random(), random.random(), random.sample(color_list, 1))\n",
    "    dot_list.append(dot)\n",
    "\n"
   ]
  }
 ],
 "metadata": {
  "kernelspec": {
   "display_name": "env_pygame_ml",
   "language": "python",
   "name": "python3"
  },
  "language_info": {
   "codemirror_mode": {
    "name": "ipython",
    "version": 3
   },
   "file_extension": ".py",
   "mimetype": "text/x-python",
   "name": "python",
   "nbconvert_exporter": "python",
   "pygments_lexer": "ipython3",
   "version": "3.9.13"
  },
  "orig_nbformat": 4,
  "vscode": {
   "interpreter": {
    "hash": "63ab5f8c11a7aa7ff207561ce57dab06d98dd520a75cd0c3f58541c26e3b65cc"
   }
  }
 },
 "nbformat": 4,
 "nbformat_minor": 2
}
