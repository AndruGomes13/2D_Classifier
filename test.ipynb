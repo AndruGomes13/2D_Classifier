{
 "cells": [
  {
   "cell_type": "code",
   "execution_count": 21,
   "metadata": {},
   "outputs": [
    {
     "name": "stdout",
     "output_type": "stream",
     "text": [
      "pygame 2.1.2 (SDL 2.0.18, Python 3.9.13)\n",
      "Hello from the pygame community. https://www.pygame.org/contribute.html\n"
     ]
    }
   ],
   "source": [
    "import pygame\n",
    "import random"
   ]
  },
  {
   "cell_type": "code",
   "execution_count": 5,
   "metadata": {},
   "outputs": [],
   "source": [
    "class Dot:\n",
    "    def __init__(self, x, y, color):\n",
    "        self.x = x\n",
    "        self.y = y\n",
    "        self.color = color\n",
    "\n",
    "color_list = [\"red\", \"blue\"]"
   ]
  },
  {
   "cell_type": "code",
   "execution_count": 8,
   "metadata": {},
   "outputs": [
    {
     "name": "stdout",
     "output_type": "stream",
     "text": [
      "['red']\n",
      "['red']\n",
      "['red']\n",
      "['blue']\n",
      "['red']\n",
      "['blue']\n",
      "['red']\n",
      "['blue']\n",
      "['blue']\n",
      "['blue']\n"
     ]
    }
   ],
   "source": [
    "dot_list = []\n",
    "\n",
    "#creating 10 dots\n",
    "for _ in range(10):\n",
    "    dot = Dot(random.random(), random.random(), random.sample(color_list, 1))\n",
    "    dot_list.append(dot)\n",
    "\n"
   ]
  },
  {
   "cell_type": "code",
   "execution_count": 19,
   "metadata": {},
   "outputs": [
    {
     "data": {
      "text/plain": [
       "True"
      ]
     },
     "execution_count": 19,
     "metadata": {},
     "output_type": "execute_result"
    }
   ],
   "source": [
    "\n",
    "limits= ((0, 300), (100, 200))\n",
    "mouse = (10, 130)\n",
    "def check_press(mouse_coord):\n",
    "    return (\n",
    "        mouse_coord[0] > limits[0][0] and \n",
    "        mouse_coord[0] < limits[0][1] and\n",
    "        mouse_coord[1] > limits[1][0] and\n",
    "        mouse_coord[1] < limits[1][1])\n",
    "\n",
    "check_press(mouse)"
   ]
  },
  {
   "cell_type": "code",
   "execution_count": 3,
   "metadata": {},
   "outputs": [
    {
     "data": {
      "text/plain": [
       "[1, 2, 3]"
      ]
     },
     "execution_count": 3,
     "metadata": {},
     "output_type": "execute_result"
    }
   ],
   "source": [
    "a = [1, 2, 2, 3]\n",
    "a.remove(2)\n",
    "a"
   ]
  }
 ],
 "metadata": {
  "kernelspec": {
   "display_name": "env_pygame_ml",
   "language": "python",
   "name": "python3"
  },
  "language_info": {
   "codemirror_mode": {
    "name": "ipython",
    "version": 3
   },
   "file_extension": ".py",
   "mimetype": "text/x-python",
   "name": "python",
   "nbconvert_exporter": "python",
   "pygments_lexer": "ipython3",
   "version": "3.9.13"
  },
  "orig_nbformat": 4,
  "vscode": {
   "interpreter": {
    "hash": "63ab5f8c11a7aa7ff207561ce57dab06d98dd520a75cd0c3f58541c26e3b65cc"
   }
  }
 },
 "nbformat": 4,
 "nbformat_minor": 2
}
