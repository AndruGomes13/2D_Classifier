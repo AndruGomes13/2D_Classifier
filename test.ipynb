{
 "cells": [
  {
   "cell_type": "code",
   "execution_count": 5,
   "metadata": {},
   "outputs": [
    {
     "name": "stdout",
     "output_type": "stream",
     "text": [
      "pygame 2.1.2 (SDL 2.0.18, Python 3.9.13)\n",
      "Hello from the pygame community. https://www.pygame.org/contribute.html\n"
     ]
    }
   ],
   "source": [
    "import pygame\n",
    "import random"
   ]
  },
  {
   "cell_type": "code",
   "execution_count": 5,
   "metadata": {},
   "outputs": [],
   "source": [
    "class Dot:\n",
    "    def __init__(self, x, y, color):\n",
    "        self.x = x\n",
    "        self.y = y\n",
    "        self.color = color\n",
    "\n",
    "color_list = [\"red\", \"blue\"]"
   ]
  },
  {
   "cell_type": "code",
   "execution_count": 8,
   "metadata": {},
   "outputs": [
    {
     "name": "stdout",
     "output_type": "stream",
     "text": [
      "['red']\n",
      "['red']\n",
      "['red']\n",
      "['blue']\n",
      "['red']\n",
      "['blue']\n",
      "['red']\n",
      "['blue']\n",
      "['blue']\n",
      "['blue']\n"
     ]
    }
   ],
   "source": [
    "dot_list = []\n",
    "\n",
    "#creating 10 dots\n",
    "for _ in range(10):\n",
    "    dot = Dot(random.random(), random.random(), random.sample(color_list, 1))\n",
    "    dot_list.append(dot)\n",
    "\n"
   ]
  },
  {
   "cell_type": "code",
   "execution_count": 5,
   "metadata": {},
   "outputs": [],
   "source": [
    "class Dot:\n",
    "    def __init__(self, x, y, color=\"black\") -> None:\n",
    "        self.x = x\n",
    "        self.y = y\n",
    "        self._color = color\n",
    "        self._color_code = color_dict[color]\n",
    "\n",
    "    @property\n",
    "    def color(self):\n",
    "        return self._color\n",
    "\n",
    "    @color.setter\n",
    "    def color(self, value):\n",
    "        self._color = value\n",
    "        self._color_code = color_dict[value]\n",
    "\n",
    "    @property\n",
    "    def color_code(self):\n",
    "        return self._color_code\n",
    "\n",
    "    @color_code.setter\n",
    "    def color_code(self, value):\n",
    "        self._color_code = value\n",
    "        self._color = f\"Custom Color: {self._color_code}\"\n",
    "\n",
    "color_dict = {\"white\" : (255,255,255),\n",
    "            \"black\" : (0, 0, 0),\n",
    "            \"GREY\" : (190, 190, 190),\n",
    "            }"
   ]
  },
  {
   "cell_type": "code",
   "execution_count": 4,
   "metadata": {},
   "outputs": [
    {
     "data": {
      "text/plain": [
       "'Custom Color (100, 200, 200)'"
      ]
     },
     "execution_count": 4,
     "metadata": {},
     "output_type": "execute_result"
    }
   ],
   "source": [
    "d = Dot(10, 10, \"white\")\n",
    "d.color = \"black\"\n",
    "d.color_code = (100, 200, 200)\n",
    "d.color\n",
    "\n"
   ]
  }
 ],
 "metadata": {
  "kernelspec": {
   "display_name": "env_pygame_ml",
   "language": "python",
   "name": "python3"
  },
  "language_info": {
   "codemirror_mode": {
    "name": "ipython",
    "version": 3
   },
   "file_extension": ".py",
   "mimetype": "text/x-python",
   "name": "python",
   "nbconvert_exporter": "python",
   "pygments_lexer": "ipython3",
   "version": "3.9.13"
  },
  "orig_nbformat": 4,
  "vscode": {
   "interpreter": {
    "hash": "63ab5f8c11a7aa7ff207561ce57dab06d98dd520a75cd0c3f58541c26e3b65cc"
   }
  }
 },
 "nbformat": 4,
 "nbformat_minor": 2
}
